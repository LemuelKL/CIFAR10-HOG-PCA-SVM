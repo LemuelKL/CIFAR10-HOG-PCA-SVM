{
  "cells": [
    {
      "cell_type": "markdown",
      "metadata": {
        "colab_type": "text",
        "id": "view-in-github"
      },
      "source": [
        "<a href=\"https://colab.research.google.com/github/LemuelKL/CIFAR10-HOG-SVM/blob/main/CIFAR10_HOG_SVM.ipynb\" target=\"_parent\"><img src=\"https://colab.research.google.com/assets/colab-badge.svg\" alt=\"Open In Colab\"/></a>"
      ]
    },
    {
      "cell_type": "code",
      "execution_count": null,
      "metadata": {
        "id": "x2P4_rQvBJD6"
      },
      "outputs": [],
      "source": [
        "import cv2\n",
        "import numpy as np\n",
        "from tqdm import tqdm\n",
        "from statistics import mean\n",
        "from joblib import dump, load\n",
        "from tensorflow import keras\n",
        "from skimage.feature import hog\n",
        "from skimage import data, exposure\n",
        "import matplotlib.pyplot as plt\n",
        "from sklearnex import patch_sklearn\n",
        "patch_sklearn()\n",
        "from sklearn.metrics import confusion_matrix, ConfusionMatrixDisplay\n",
        "from sklearn.pipeline import Pipeline\n",
        "from sklearn.preprocessing import StandardScaler\n",
        "from sklearn.svm import SVC\n",
        "from sklearn.decomposition import PCA"
      ]
    },
    {
      "cell_type": "code",
      "execution_count": null,
      "metadata": {
        "id": "z3yKDfeE916_"
      },
      "outputs": [],
      "source": [
        "(x_train, y_train), (x_test, y_test) = keras.datasets.cifar10.load_data()\n",
        "assert x_train.shape == (50000, 32, 32, 3)\n",
        "assert x_test.shape == (10000, 32, 32, 3)\n",
        "y_train = y_train.reshape(-1)\n",
        "y_test = y_test.reshape(-1)\n",
        "assert y_train.shape == (50000,)\n",
        "assert y_test.shape == (10000,)"
      ]
    },
    {
      "cell_type": "code",
      "execution_count": null,
      "metadata": {
        "id": "iJqTOv6uBEYT"
      },
      "outputs": [],
      "source": [
        "def preprocess(xs):\n",
        "    hog_imgs = []\n",
        "    for x in tqdm(xs):\n",
        "        gray = cv2.cvtColor(x, cv2.COLOR_RGB2GRAY) / 255\n",
        "        fd = hog(gray, orientations=9, pixels_per_cell=(8, 8),\n",
        "                    \tcells_per_block=(2, 2))\n",
        "        hog_imgs.append(fd)\n",
        "    return np.array(hog_imgs)"
      ]
    },
    {
      "cell_type": "code",
      "execution_count": null,
      "metadata": {
        "colab": {
          "base_uri": "https://localhost:8080/"
        },
        "id": "9XSuRaP3BYDu",
        "outputId": "6ca3221a-b750-4f20-f959-a1895b4888f9"
      },
      "outputs": [
        {
          "name": "stderr",
          "output_type": "stream",
          "text": [
            "100%|██████████| 50000/50000 [00:30<00:00, 1619.80it/s]\n",
            "100%|██████████| 10000/10000 [00:11<00:00, 872.29it/s]\n"
          ]
        }
      ],
      "source": [
        "x_train = preprocess(x_train)\n",
        "x_test = preprocess(x_test)"
      ]
    },
    {
      "cell_type": "code",
      "execution_count": null,
      "metadata": {
        "colab": {
          "base_uri": "https://localhost:8080/"
        },
        "id": "ARqsDUK7BmFx",
        "outputId": "25d986c6-6d8f-471d-ebeb-634f9f72c6ac"
      },
      "outputs": [
        {
          "name": "stdout",
          "output_type": "stream",
          "text": [
            "(50000, 324)\n",
            "(10000, 324)\n"
          ]
        }
      ],
      "source": [
        "print(x_train.shape)\n",
        "print(x_test.shape)"
      ]
    },
    {
      "cell_type": "code",
      "execution_count": null,
      "metadata": {
        "colab": {
          "base_uri": "https://localhost:8080/"
        },
        "id": "AnU2uBDxB0Gg",
        "outputId": "43b738d2-a475-4084-cebd-7f9f0789d169"
      },
      "outputs": [
        {
          "name": "stdout",
          "output_type": "stream",
          "text": [
            "66\n"
          ]
        }
      ],
      "source": [
        "pca = PCA(0.8)\n",
        "pca.fit(x_train)\n",
        "print(pca.n_components_)"
      ]
    },
    {
      "cell_type": "code",
      "execution_count": null,
      "metadata": {
        "colab": {
          "base_uri": "https://localhost:8080/"
        },
        "id": "ahavllHzAGvv",
        "outputId": "d9af37b8-b042-4eef-cf0b-c7f3513c6e4a"
      },
      "outputs": [
        {
          "data": {
            "text/plain": [
              "Pipeline(steps=[('standardscaler', StandardScaler()),\n",
              "                ('pca', PCA(n_components=0.8)),\n",
              "                ('rbfsvc', SVC(C=10, cache_size=10000))])"
            ]
          },
          "execution_count": 25,
          "metadata": {},
          "output_type": "execute_result"
        }
      ],
      "source": [
        "pipe = Pipeline([('standardscaler', StandardScaler()), ('pca', PCA(0.8)), ('rbfsvc', SVC(kernel='rbf', C=10, cache_size=10000))])\n",
        "pipe.fit(x_train, y_train)"
      ]
    },
    {
      "cell_type": "code",
      "execution_count": null,
      "metadata": {
        "colab": {
          "base_uri": "https://localhost:8080/"
        },
        "id": "TpErqDzCJ0RW",
        "outputId": "6624579e-e562-4b33-c23f-c2b47c2c5a53"
      },
      "outputs": [
        {
          "data": {
            "text/plain": [
              "['pipe.joblib']"
            ]
          },
          "execution_count": 30,
          "metadata": {},
          "output_type": "execute_result"
        }
      ],
      "source": [
        "dump(pipe, 'pipe.joblib')"
      ]
    },
    {
      "cell_type": "code",
      "execution_count": null,
      "metadata": {
        "id": "iqB54rUoJ3Jf"
      },
      "outputs": [],
      "source": [
        "pipe = load('pipe.joblib')"
      ]
    },
    {
      "cell_type": "code",
      "execution_count": null,
      "metadata": {
        "colab": {
          "base_uri": "https://localhost:8080/"
        },
        "id": "1RcmZEdkA8Cw",
        "outputId": "343706db-776c-41a2-eff1-662c6105ae35"
      },
      "outputs": [
        {
          "data": {
            "text/plain": [
              "0.6199"
            ]
          },
          "execution_count": 26,
          "metadata": {},
          "output_type": "execute_result"
        }
      ],
      "source": [
        "pipe.score(x_test, y_test)"
      ]
    },
    {
      "cell_type": "code",
      "execution_count": null,
      "metadata": {
        "id": "A-fnWr9mJTi1"
      },
      "outputs": [],
      "source": [
        "y_pred = pipe.predict(x_test)"
      ]
    },
    {
      "cell_type": "code",
      "execution_count": null,
      "metadata": {
        "colab": {
          "base_uri": "https://localhost:8080/",
          "height": 309
        },
        "id": "dOSnwrr_OPch",
        "outputId": "3aa3c36a-bc8e-4a23-ee3c-1e1b0041706f"
      },
      "outputs": [
        {
          "data": {
            "image/png": "[encoded data removed]",
            "text/plain": [
              "<Figure size 432x288 with 2 Axes>"
            ]
          },
          "metadata": {
            "needs_background": "light"
          },
          "output_type": "display_data"
        }
      ],
      "source": [
        "color = 'white'\n",
        "cm = confusion_matrix(y_test, y_pred)\n",
        "disp = ConfusionMatrixDisplay(cm, display_labels=['airplanes', 'cars', 'birds', 'cats', 'deer', 'dogs', 'frogs', 'horses', 'ships', 'trucks'])\n",
        "disp.plot()\n",
        "plt.xticks(rotation=45, ha='right')\n",
        "plt.show()"
      ]
    }
  ],
  "metadata": {
    "colab": {
      "authorship_tag": "ABX9TyO1OJsCIcxTbmeEMQVHYk+o",
      "include_colab_link": true,
      "provenance": []
    },
    "kernelspec": {
      "display_name": "Python 3",
      "name": "python3"
    },
    "language_info": {
      "name": "python"
    }
  },
  "nbformat": 4,
  "nbformat_minor": 0
}
